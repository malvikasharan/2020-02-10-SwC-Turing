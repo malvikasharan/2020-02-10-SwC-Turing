{
 "cells": [
  {
   "cell_type": "markdown",
   "metadata": {},
   "source": [
    "# Libraries"
   ]
  },
  {
   "cell_type": "markdown",
   "metadata": {},
   "source": [
    "### Questions\n",
    "- How can I use software that other people have written?\n",
    "- How can I find out what that software does?\n",
    "\n",
    "### Objectives\n",
    "- Explain what software libraries are and why programmers create and use them.\n",
    "- Write programs that import and use libraries from Python’s standard library.\n",
    "- Find and read documentation for standard libraries interactively (in the interpreter) and online."
   ]
  },
  {
   "cell_type": "markdown",
   "metadata": {},
   "source": [
    "## Most of the power of a programming language is in its libraries\n",
    "\n",
    "- A `library` is a collection of files (called `modules`) that contains `functions` for use by other programs.\n",
    "\n",
    "- The Python standard library is an extensive suite of modules that comes with Python itself.\n",
    "\n",
    "- May also contain data values (e.g., numerical constants) and other things.\n",
    "\n",
    "- Library’s contents are supposed to be related, but there’s no way to enforce that. \n",
    "\n",
    "- Many additional libraries are available from PyPI (the Python Package Index).\n",
    "\n",
    "- We will see later how to write new libraries."
   ]
  },
  {
   "cell_type": "markdown",
   "metadata": {},
   "source": [
    "## A program must import a library module before using it\n",
    "\n",
    "We will use the `math` module for example."
   ]
  },
  {
   "cell_type": "code",
   "execution_count": null,
   "metadata": {},
   "outputs": [],
   "source": [
    "math"
   ]
  },
  {
   "cell_type": "markdown",
   "metadata": {},
   "source": [
    "Let's `import` it!"
   ]
  },
  {
   "cell_type": "code",
   "execution_count": null,
   "metadata": {},
   "outputs": [],
   "source": []
  },
  {
   "cell_type": "markdown",
   "metadata": {},
   "source": [
    "- We use import to load a library module into a program’s memory.\n",
    "- Then refer to things from the module as `library_name.thing_name` : Python uses . to mean “part of”.\n",
    "    \n",
    "- Type `math.` and then press tab"
   ]
  },
  {
   "cell_type": "code",
   "execution_count": null,
   "metadata": {},
   "outputs": [],
   "source": []
  },
  {
   "cell_type": "markdown",
   "metadata": {},
   "source": [
    "## Use `help()` to find more about the `math` module"
   ]
  },
  {
   "cell_type": "code",
   "execution_count": null,
   "metadata": {},
   "outputs": [],
   "source": []
  },
  {
   "cell_type": "markdown",
   "metadata": {},
   "source": [
    "## Import specific items from a library module to shorten programs\n",
    "\n",
    "`from <library_name> import <module>`"
   ]
  },
  {
   "cell_type": "code",
   "execution_count": null,
   "metadata": {},
   "outputs": [],
   "source": []
  },
  {
   "cell_type": "markdown",
   "metadata": {},
   "source": [
    "## Create an alias for a library module when importing it to shorten programs\n",
    "\n",
    "`import <library_name> as <alias>`\n",
    "\n",
    "`import math as m`"
   ]
  },
  {
   "cell_type": "code",
   "execution_count": null,
   "metadata": {},
   "outputs": [],
   "source": []
  },
  {
   "cell_type": "markdown",
   "metadata": {},
   "source": [
    "### There Are Many Ways To Import Libraries!\n",
    "\n",
    "Match the following print statements with the appropriate library calls.\n",
    "\n",
    "Print commands:\n",
    "\n",
    "\n",
    "1. `print(\"sin(pi/2) =\", sin(pi/2))`\n",
    "1. `print(\"sin(pi/2) =\", m.sin(m.pi/2))`\n",
    "1. `print(\"sin(pi/2) =\", math.sin(math.pi/2))`\n",
    "\n",
    "Library calls:\n",
    "\n",
    "a. `from math import sin, pi`\n",
    "\n",
    "b. `import math`\n",
    "\n",
    "c. `import math as m`\n",
    "\n",
    "d. `from math import *`\n"
   ]
  },
  {
   "cell_type": "code",
   "execution_count": null,
   "metadata": {},
   "outputs": [],
   "source": []
  }
 ],
 "metadata": {
  "kernelspec": {
   "display_name": "Python 3",
   "language": "python",
   "name": "python3"
  },
  "language_info": {
   "codemirror_mode": {
    "name": "ipython",
    "version": 3
   },
   "file_extension": ".py",
   "mimetype": "text/x-python",
   "name": "python",
   "nbconvert_exporter": "python",
   "pygments_lexer": "ipython3",
   "version": "3.7.4"
  }
 },
 "nbformat": 4,
 "nbformat_minor": 4
}
