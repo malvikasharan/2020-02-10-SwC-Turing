{
 "cells": [
  {
   "cell_type": "markdown",
   "metadata": {},
   "source": [
    "# Reading Tabular Data into DataFrames"
   ]
  },
  {
   "cell_type": "markdown",
   "metadata": {},
   "source": [
    "### Questions\n",
    "- How can I read tabular data?\n",
    "\n",
    "### Objectives\n",
    "- Import the Pandas library.\n",
    "- Use Pandas to load a simple CSV data set.\n",
    "- Get some basic information about a Pandas DataFrame."
   ]
  },
  {
   "cell_type": "markdown",
   "metadata": {},
   "source": [
    "## Library to do statistics on tabular data: `pandas`"
   ]
  },
  {
   "cell_type": "code",
   "execution_count": null,
   "metadata": {},
   "outputs": [],
   "source": [
    "import pandas"
   ]
  },
  {
   "cell_type": "markdown",
   "metadata": {},
   "source": [
    "![](https://upload.wikimedia.org/wikipedia/commons/thumb/1/1b/Baby_Pandas.JPG/1920px-Baby_Pandas.JPG)\n",
    "\n",
    "*Source: Wikipedia, By Joshua Doubek - Own work, CC BY-SA 3.0, https://commons.wikimedia.org/w/index.php?curid=28786651*"
   ]
  },
  {
   "cell_type": "markdown",
   "metadata": {},
   "source": [
    "## About the `pandas` package\n",
    "\n",
    "- Pandas is a widely-used Python library for statistics, particularly on tabular data.\n",
    "- Often imported with the commonly used alias 'pd' (`import pandas as pd`)\n",
    "\n",
    "**Learn more about the package**\n",
    "\n",
    "`help(pandas)` or `pandas?`"
   ]
  },
  {
   "cell_type": "code",
   "execution_count": null,
   "metadata": {},
   "outputs": [],
   "source": []
  },
  {
   "cell_type": "markdown",
   "metadata": {},
   "source": [
    "- This packkage can read a Comma Separate Values (CSV) data file with `pd.read_csv(<filename>)`\n",
    "\n",
    "- The files that we will use is available in your folder (*did you download [the gapminder data](http://swcarpentry.github.io/python-novice-gapminder/files/python-novice-gapminder-data.zip)?*)\n",
    "\n",
    "    - Let's have a closer look at one of the files (*do you remember the unix commands to explore files?*)."
   ]
  },
  {
   "cell_type": "code",
   "execution_count": null,
   "metadata": {},
   "outputs": [],
   "source": []
  },
  {
   "cell_type": "markdown",
   "metadata": {},
   "source": [
    "## Use `index_col` to specify one column as the row headings\n",
    "\n",
    "- How are the rows currently represented?\n",
    "- We want to index our rows by country."
   ]
  },
  {
   "cell_type": "code",
   "execution_count": null,
   "metadata": {},
   "outputs": [],
   "source": []
  },
  {
   "cell_type": "markdown",
   "metadata": {},
   "source": [
    "## Use `DataFrame.info()` to find out more about a dataframe"
   ]
  },
  {
   "cell_type": "code",
   "execution_count": null,
   "metadata": {},
   "outputs": [],
   "source": []
  },
  {
   "cell_type": "markdown",
   "metadata": {},
   "source": [
    "## The `DataFrame.columns` variable stores information about the dataframe’s columns"
   ]
  },
  {
   "cell_type": "code",
   "execution_count": null,
   "metadata": {},
   "outputs": [],
   "source": []
  },
  {
   "cell_type": "markdown",
   "metadata": {},
   "source": [
    "## Use `DataFrame.T` to transpose a dataframe"
   ]
  },
  {
   "cell_type": "code",
   "execution_count": null,
   "metadata": {},
   "outputs": [],
   "source": []
  },
  {
   "cell_type": "markdown",
   "metadata": {},
   "source": [
    "Use `DataFrame.describe()` to get summary statistics about data"
   ]
  },
  {
   "cell_type": "code",
   "execution_count": null,
   "metadata": {},
   "outputs": [],
   "source": []
  },
  {
   "cell_type": "markdown",
   "metadata": {},
   "source": [
    "## Exercise: \n",
    "\n",
    "1) Reading other files\n",
    "\n",
    "- See other files that exists `!ls data`\n",
    "- Open the files on America"
   ]
  },
  {
   "cell_type": "code",
   "execution_count": null,
   "metadata": {},
   "outputs": [],
   "source": []
  },
  {
   "cell_type": "markdown",
   "metadata": {},
   "source": [
    "2) See what `DataFrame.head()` and `DataFrame.tail()` do? Where have you seen `head` and `tail` before?"
   ]
  },
  {
   "cell_type": "code",
   "execution_count": null,
   "metadata": {},
   "outputs": [],
   "source": []
  },
  {
   "cell_type": "markdown",
   "metadata": {},
   "source": [
    "3) What method call will display the first three rows of this data?\n",
    "4) What method call will display the last three columns of this data? \n",
    "\n",
    "(Hint: you may need to define the exact number of lines as argument)"
   ]
  },
  {
   "cell_type": "code",
   "execution_count": null,
   "metadata": {},
   "outputs": [],
   "source": []
  },
  {
   "cell_type": "markdown",
   "metadata": {},
   "source": [
    "4) Reading Files in Other Directories:\n",
    "\n",
    "Hypothetical situation: The data for your a project is stored in a file called `microbes.csv`, which is located in a folder called `field_data`. You are doing analysis in a notebook called `analysis.ipynb` in a sibling folder called `thesis`, that looks like this:\n",
    "\n",
    "```\n",
    "your_home_directory\n",
    "+-- field_data/\n",
    "|   +-- microbes.csv\n",
    "+-- thesis/\n",
    "    +-- analysis.ipynb\n",
    "```\n",
    "\n",
    "What value(s) should you pass to read_csv to read microbes.csv in analysis.ipynb?"
   ]
  },
  {
   "cell_type": "code",
   "execution_count": null,
   "metadata": {},
   "outputs": [],
   "source": []
  },
  {
   "cell_type": "markdown",
   "metadata": {},
   "source": [
    "## Writing Data\n",
    "\n",
    "Pandas provides a `to_csv` function to write dataframes to files.\n",
    "\n",
    "**Exercise**\n",
    "\n",
    "Applying what you’ve learned about reading from files, write dataframes read from the America's file to another file called `processed.csv`."
   ]
  },
  {
   "cell_type": "code",
   "execution_count": null,
   "metadata": {},
   "outputs": [],
   "source": []
  }
 ],
 "metadata": {
  "kernelspec": {
   "display_name": "Python 3",
   "language": "python",
   "name": "python3"
  },
  "language_info": {
   "codemirror_mode": {
    "name": "ipython",
    "version": 3
   },
   "file_extension": ".py",
   "mimetype": "text/x-python",
   "name": "python",
   "nbconvert_exporter": "python",
   "pygments_lexer": "ipython3",
   "version": "3.7.4"
  }
 },
 "nbformat": 4,
 "nbformat_minor": 4
}
